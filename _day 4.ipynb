{
 "cells": [
  {
   "cell_type": "code",
   "execution_count": 1,
   "metadata": {},
   "outputs": [
    {
     "name": "stdout",
     "output_type": "stream",
     "text": [
      "5929\n",
      "5832\n"
     ]
    }
   ],
   "source": [
    "#finding square and cube of  number using operator\n",
    "square = 77 ** 2\n",
    "cube = 18 ** 3\n",
    "print(square)\n",
    "print(cube)"
   ]
  },
  {
   "cell_type": "code",
   "execution_count": 7,
   "metadata": {},
   "outputs": [
    {
     "name": "stdout",
     "output_type": "stream",
     "text": [
      "sandeshsandeshsandeshsandeshsandeshsandeshsandeshsandeshsandeshsandesh\n"
     ]
    }
   ],
   "source": [
    "mynamein10times = \"sandesh\" *   10\n",
    "print(mynamein10times)\n",
    "#multypling my name by 10 times using multiplication operator"
   ]
  },
  {
   "cell_type": "code",
   "execution_count": null,
   "metadata": {},
   "outputs": [],
   "source": []
  },
  {
   "cell_type": "code",
   "execution_count": 11,
   "metadata": {},
   "outputs": [
    {
     "name": "stdout",
     "output_type": "stream",
     "text": [
      "Sandesh Nepal\n"
     ]
    }
   ],
   "source": [
    "Name = \"Sandesh\" + \" \" + \"Nepal\"\n",
    "print(Name)\n",
    "#adding string using + operator . \" \" is because for the space."
   ]
  },
  {
   "cell_type": "code",
   "execution_count": 17,
   "metadata": {},
   "outputs": [
    {
     "name": "stdout",
     "output_type": "stream",
     "text": [
      "Hi Kross, welcome to the python class. \n"
     ]
    }
   ],
   "source": [
    " #examples of string formatting\n",
    "message = \"welcome to the python class\"\n",
    "print(\"Hi Kross, %s. \" % message) "
   ]
  },
  {
   "cell_type": "code",
   "execution_count": 16,
   "metadata": {},
   "outputs": [
    {
     "name": "stdout",
     "output_type": "stream",
     "text": [
      "cristiano is 35 years old.\n"
     ]
    }
   ],
   "source": [
    "# This prints out \"John is 23 years old.\"\n",
    "name = \"cristiano\"\n",
    "age = 35\n",
    "print(\"%s is %d years old.\" % (name, age))"
   ]
  },
  {
   "cell_type": "code",
   "execution_count": 21,
   "metadata": {
    "scrolled": true
   },
   "outputs": [
    {
     "name": "stdout",
     "output_type": "stream",
     "text": [
      "my marks in all subjets is: ['39', '63', '49', '32', '77'] \n"
     ]
    }
   ],
   "source": [
    "mymarks=[\"39\",\"63\",\"49\",\"32\",\"77\"]\n",
    "print(\"my marks in all subjets is: %s \" %  mymarks)\n",
    "#using lists in string formating .\n"
   ]
  },
  {
   "cell_type": "code",
   "execution_count": 36,
   "metadata": {},
   "outputs": [
    {
     "name": "stdout",
     "output_type": "stream",
     "text": [
      "8\n",
      "5\n",
      "PYTHON IS ONE  OF THE MOST POWERFUL LANGUAGE.\n",
      "8\n",
      "thon \n",
      "yhn\n",
      "['python', 'is', 'one', 'of', 'the', 'most', 'powerful', 'language.']\n"
     ]
    }
   ],
   "source": [
    "#examples in string operations\n",
    "msg=\"python is one  of the most powerful language.\"\n",
    "print(msg.index(\"s\")) #index is used to find position of given letter\n",
    "print(msg.count(\"o\")) #count is used to count the given letter in a msg\n",
    "print(msg.upper())  #upper is used to change the all letters in uppercase in msg and lower is for to change in lowercase\n",
    "print(msg.index(\"s\"))\n",
    "print(msg[2:7])\n",
    "print(msg[1:7:2])\n",
    "print(msg.split()) #spliting the message\n",
    "\n",
    " "
   ]
  },
  {
   "cell_type": "code",
   "execution_count": 50,
   "metadata": {},
   "outputs": [
    {
     "name": "stdout",
     "output_type": "stream",
     "text": [
      "That's my name\n"
     ]
    }
   ],
   "source": [
    "# A simple example of conditions used in python\n",
    "name=\"ronaldo\"\n",
    "if name == \"ronaldo\":\n",
    "   print(\"That's my name\") #when my name is ronaldo it will be true else false\n",
    "else:\n",
    "     print(\"That's not my name\")"
   ]
  },
  {
   "cell_type": "code",
   "execution_count": 86,
   "metadata": {},
   "outputs": [
    {
     "name": "stdout",
     "output_type": "stream",
     "text": [
      "you passed in first div , la badhaixa\n"
     ]
    }
   ],
   "source": [
    "#please help to fix this code getting not accurate answer\n",
    "per=60\n",
    "if per == 80 and per>80:\n",
    "    print(\"you have got the dist, marks !CONGRATULATIONS\")\n",
    "elif per < 80 and per==60: \n",
    "      print (\"you passed in first div , la badhaixa\")\n",
    "else:\n",
    "    print(\"Insufficient marks for admission,TRY NEXT TIME\")"
   ]
  },
  {
   "cell_type": "code",
   "execution_count": null,
   "metadata": {},
   "outputs": [],
   "source": []
  },
  {
   "cell_type": "code",
   "execution_count": null,
   "metadata": {},
   "outputs": [],
   "source": []
  }
 ],
 "metadata": {
  "kernelspec": {
   "display_name": "Python 3",
   "language": "python",
   "name": "python3"
  },
  "language_info": {
   "codemirror_mode": {
    "name": "ipython",
    "version": 3
   },
   "file_extension": ".py",
   "mimetype": "text/x-python",
   "name": "python",
   "nbconvert_exporter": "python",
   "pygments_lexer": "ipython3",
   "version": "3.7.4"
  }
 },
 "nbformat": 4,
 "nbformat_minor": 2
}
