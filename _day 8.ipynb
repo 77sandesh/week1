{
 "cells": [
  {
   "cell_type": "code",
   "execution_count": 34,
   "metadata": {},
   "outputs": [
    {
     "name": "stdout",
     "output_type": "stream",
     "text": [
      "sandesh\n"
     ]
    }
   ],
   "source": [
    "#objects and class\n",
    "#simple example on objects and class\n",
    "  \n",
    "class Me:   # we should give capital letter to the first letter of class\n",
    "    name=\"sandesh\"  \n",
    "san=Me()\n",
    "print(san.name)\n",
    "\n",
    "\n"
   ]
  },
  {
   "cell_type": "code",
   "execution_count": 31,
   "metadata": {},
   "outputs": [
    {
     "name": "stdout",
     "output_type": "stream",
     "text": [
      "hello\n"
     ]
    }
   ],
   "source": [
    "class Okay:\n",
    "    variable=\"hello\"\n",
    "        \n",
    "    def function(sandesh):\n",
    "            print(\"it's me guys\")\n",
    "            \n",
    "myobjectx=Okay()\n",
    "            \n",
    "print(myobjectx.variable)\n",
    "            \n",
    " # prints the variables that is inside class with new object is created           \n",
    "            \n",
    "            \n",
    "            \n",
    "            "
   ]
  },
  {
   "cell_type": "code",
   "execution_count": 25,
   "metadata": {},
   "outputs": [
    {
     "name": "stdout",
     "output_type": "stream",
     "text": [
      "this is a message inside the class.\n"
     ]
    }
   ],
   "source": [
    "class Myclass:\n",
    "    variable=\"blah\"\n",
    "    \n",
    "    def function(self):\n",
    "         print(\"this is a message inside the class.\")\n",
    "\n",
    "myobjectx=Myclass() #creating object x for class myclass\n",
    "\n",
    "myobjectx.function() #prints the message that is inside function call\n"
   ]
  },
  {
   "cell_type": "code",
   "execution_count": 33,
   "metadata": {},
   "outputs": [
    {
     "name": "stdout",
     "output_type": "stream",
     "text": [
      "Hello my name is sandesh\n"
     ]
    }
   ],
   "source": [
    "class Person:\n",
    "  def __init__(myobject, name, age):   #--init-- is a function used for the initialized.it calls when we call new objects\n",
    "    myobject.name = name  #initialized our objects(name)\n",
    "    myobject.age = age      #initialized our objects(age)\n",
    "\n",
    "  def function(abc):\n",
    "    print(\"Hello my name is \" + abc.name)\n",
    "\n",
    "p1 = Person(\"sandesh\", 22)\n",
    "p1.function()"
   ]
  },
  {
   "cell_type": "code",
   "execution_count": 44,
   "metadata": {},
   "outputs": [
    {
     "name": "stdout",
     "output_type": "stream",
     "text": [
      "Roycerolls is a white exp car worth $100000.000.\n",
      "Lam is a red sports car worth $200000.000.\n"
     ]
    }
   ],
   "source": [
    "\n",
    "class Vechicle:  # class vechicle is created\n",
    "    name=\"\"\n",
    "    kind=\"expcars\"\n",
    "    color=\"\"\n",
    "    price=\"100.000\"\n",
    "    def desc(self):\n",
    "        desc=\"%s is a %s %s car worth $%.3f.\"%(self.name, self.color, self.kind, self.price)\n",
    "        return desc\n",
    "\n",
    "car1=Vechicle()\n",
    "car1.name=\"Roycerolls\"\n",
    "car1.color=\"white\"\n",
    "car1.kind=\"exp\"\n",
    "car1.price=100000.000\n",
    "\n",
    "car2=Vechicle()\n",
    "car2.name=\"Lam\"\n",
    "car2.color=\"red\"\n",
    "car2.kind=\"sports\"\n",
    "car2.price=200000.000\n",
    "\n",
    "print(car1.desc()) #prints desc. of car 1 as defined as above in sentence form\n",
    "print(car2.desc()) #prints desc. of car 1 as defined as above in sentence form\n",
    "\n"
   ]
  },
  {
   "cell_type": "code",
   "execution_count": 45,
   "metadata": {},
   "outputs": [
    {
     "name": "stdout",
     "output_type": "stream",
     "text": [
      "['i', 'am', 'learning', 'the', 'online', 'python', 'and', 'machine', 'learning', 'class']\n"
     ]
    }
   ],
   "source": [
    "\n",
    "#python Advanced\n",
    "\n",
    "#examples on list comprenhsions in python.\n",
    "#list comprehsions creates  a new list based on another list\n",
    "\n",
    "sentence=\"i am learning the online python and  machine learning class \"\n",
    "words=sentence.split() #split is used to split the given sentences into lists\n",
    "print(words) # it prints the splited sentences in form of list\n"
   ]
  },
  {
   "cell_type": "code",
   "execution_count": 49,
   "metadata": {},
   "outputs": [
    {
     "name": "stdout",
     "output_type": "stream",
     "text": [
      "['the', 'quick', 'brown', 'fox', 'jumps', 'over', 'the', 'lazy', 'dog']\n",
      "[5, 5, 3, 5, 4, 4, 3]\n"
     ]
    }
   ],
   "source": [
    "\n",
    "sentence=\"the quick brown fox jumps over the lazy dog\"\n",
    "\n",
    "words=sentence.split()\n",
    "\n",
    "word_lengths =[]\n",
    "for word in words:\n",
    "     if word !=\"the\":\n",
    "        word_lengths.append(len(word)) # checks conditions if there is word \"the\" and append the length of other words in list\n",
    "        \n",
    "print(words)\n",
    "\n",
    "print(word_lengths) #prints the lngth of words in list except  \"the\"\n",
    "            "
   ]
  },
  {
   "cell_type": "code",
   "execution_count": 51,
   "metadata": {},
   "outputs": [
    {
     "name": "stdout",
     "output_type": "stream",
     "text": [
      "[77, 18, 55, 20]\n"
     ]
    }
   ],
   "source": [
    "numbers=[77.6 ,-20.9 , 18.00, 55.05, -0.01, 20.00 ] # number is given in list\n",
    "\n",
    "newlists =[int(x)  for x in numbers if x>0] #it checks the number greater than 1 in a numbers and prints the number\n",
    "print(newlists) #grater than 0\n"
   ]
  },
  {
   "cell_type": "code",
   "execution_count": null,
   "metadata": {},
   "outputs": [],
   "source": []
  }
 ],
 "metadata": {
  "kernelspec": {
   "display_name": "Python 3",
   "language": "python",
   "name": "python3"
  },
  "language_info": {
   "codemirror_mode": {
    "name": "ipython",
    "version": 3
   },
   "file_extension": ".py",
   "mimetype": "text/x-python",
   "name": "python",
   "nbconvert_exporter": "python",
   "pygments_lexer": "ipython3",
   "version": "3.7.4"
  }
 },
 "nbformat": 4,
 "nbformat_minor": 2
}
