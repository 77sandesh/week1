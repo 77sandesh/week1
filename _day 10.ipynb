{
 "cells": [
  {
   "cell_type": "code",
   "execution_count": 11,
   "metadata": {},
   "outputs": [
    {
     "name": "stdout",
     "output_type": "stream",
     "text": [
      "first: 1\n",
      "second: 2\n",
      "third: 3\n",
      "and all the rest....[4, 5, 6, 7]\n"
     ]
    }
   ],
   "source": [
    "#examples on multiple  functions  arguements\n",
    "def foo(first , second , third , *therest):\n",
    "        print(\"first: %s\" %first) #prints the  values of first as first:1 and so on others second ,third\n",
    "        print(\"second: %s\" %second)\n",
    "        print(\"third: %s\"%third)\n",
    "        print(\"and all the rest....%s\" % (list(therest))) #prints the   rest values in list form\n",
    "\n",
    "foo(1,2,3,4,5,6,7) #passing values in function\n",
    "            \n",
    "        "
   ]
  },
  {
   "cell_type": "code",
   "execution_count": 14,
   "metadata": {},
   "outputs": [
    {
     "name": "stdout",
     "output_type": "stream",
     "text": [
      "The sum is: 150\n",
      "Result: 77\n"
     ]
    }
   ],
   "source": [
    " def bar(first,second,third,**options):\n",
    "    if options.get(\"action\")==\"sum\":\n",
    "        print(\"The sum is: %d\" %(first + second + third)) #prints  the sum of the first,second and third\n",
    "        \n",
    "        if options.get(\"number\")== \"first\":\n",
    "            return first\n",
    "        \n",
    "result=bar(77,18,55,action=\"sum\" ,number =\"first\") #assigns the given values to the function bar\n",
    "print(\"Result: %d\" %result) #prints the first number\n",
    "    "
   ]
  },
  {
   "cell_type": "code",
   "execution_count": 19,
   "metadata": {},
   "outputs": [
    {
     "name": "stdout",
     "output_type": "stream",
     "text": [
      "a: I\n",
      "b: am\n",
      "c: sandesh\n",
      "a: I\n",
      "b: love\n",
      "c: sports\n",
      "{'a': 'I', 'b': 'love', 'c': 'sports'}\n",
      "('I', 'am', 'sandesh')\n"
     ]
    }
   ],
   "source": [
    " def Here(a,b,c):\n",
    "    print(\"a:\",a)\n",
    "    print(\"b:\",b)\n",
    "    print(\"c:\",c)\n",
    "    \n",
    "args=(\"I\",\"am\",\"sandesh\") #using *args  to pass arguments to this function(Here)\n",
    "Here(*args) # *args is used to pass variable of argument to fuction\n",
    "\n",
    "kwargs = { \"a\":\"I\",\"b\":\"love\" ,\"c\":\"sports\"} #using **kwargs  to pass arguments to this function(Here)\n",
    "Here(**kwargs) #  **kwargs is used to pass keyworded variable \n",
    "\n",
    "print(kwargs)\n",
    "print(args)\n",
    "    "
   ]
  },
  {
   "cell_type": "code",
   "execution_count": 28,
   "metadata": {},
   "outputs": [
    {
     "name": "stdout",
     "output_type": "stream",
     "text": [
      "['we', 'are', 'spliting', 'this', 'word']\n"
     ]
    }
   ],
   "source": [
    " #examples on regular expression\n",
    "import re #importing regular expression as re\n",
    "print((re.split(r'\\s','we are spliting this word'))) #spliting this sentence using re.split function\n",
    "\n"
   ]
  },
  {
   "cell_type": "code",
   "execution_count": 33,
   "metadata": {},
   "outputs": [
    {
     "name": "stdout",
     "output_type": "stream",
     "text": [
      "Pass\n",
      "Pass\n",
      "You failed to match wha.t.`1an?ug{}lyemail.com\n"
     ]
    }
   ],
   "source": [
    "import re\n",
    "def test_email(your_pattern):\n",
    "    pattern = re.compile(your_pattern)\n",
    "    emails = [\"sandeshnepal7@gmail.com\", \"python-list@python.org\", \"wha.t.`1an?ug{}lyemail.com\" ] #giving one wrong emal to test\n",
    "    for email in emails:\n",
    "        if not re.match(pattern, email):\n",
    "            print(\"You failed to match %s\" % (email)) #conditions to check email.is it right or wrong\n",
    "        elif not your_pattern:\n",
    "            print(\"Forgot to enter a pattern!\")\n",
    "        else:\n",
    "            print(\"Pass\")\n",
    "\n",
    "pattern = r\"\\\"?([-a-zA-Z0-9.`?{}]+@\\w+\\.\\w+)\\\"?\" #here,needed pattern for email for validation\n",
    "test_email(pattern)"
   ]
  },
  {
   "cell_type": "code",
   "execution_count": 34,
   "metadata": {},
   "outputs": [
    {
     "name": "stdout",
     "output_type": "stream",
     "text": [
      "{'tennis', 'football', 'cricket'}\n",
      "{'Rafel', 'cr7'}\n"
     ]
    }
   ],
   "source": [
    "#examples on sets\n",
    "\n",
    "a = set([\"football\", \"cricket\", \"tennis\"])\n",
    "print(a)\n",
    "b = set([\"cr7\", \"Rafel\"]) \n",
    "print(b)\n",
    "#displaying the items of two different sets"
   ]
  },
  {
   "cell_type": "code",
   "execution_count": 35,
   "metadata": {},
   "outputs": [
    {
     "name": "stdout",
     "output_type": "stream",
     "text": [
      "{'all', 'alkali', 'but', 'are', 'base', 'not'}\n"
     ]
    }
   ],
   "source": [
    "print(set(\"all alkali are base but all base are not alkali\".split()))\n",
    "\n",
    "#here all words in a set are splited. but repeated or duplicated words are listed once not double times.\n"
   ]
  },
  {
   "cell_type": "code",
   "execution_count": 41,
   "metadata": {},
   "outputs": [
    {
     "name": "stdout",
     "output_type": "stream",
     "text": [
      "{'rupandehi', 'palpa'}\n",
      "{'rupandehi', 'palpa'}\n",
      "{'pyuthan', 'kaski', 'palpa', 'dolpa', 'rolpa', 'gulmi', 'rupandehi'}\n"
     ]
    }
   ],
   "source": [
    "a=set([\"palpa\",\"kaski\",\"gulmi\",\"rupandehi\",\"pyuthan\"])\n",
    "b=set([\"rolpa\",\"palpa\",\"dolpa\",\"rupandehi\"])\n",
    "\n",
    "print(a.intersection(b)) #prints the intersection or common words of a with b in a set\n",
    "print(b.intersection(a))  #prints the intersection or common words of b with b in a set\n",
    "\n",
    "print(a.union(b)) #prints the union words of  a with b in a set\n"
   ]
  },
  {
   "cell_type": "code",
   "execution_count": 45,
   "metadata": {},
   "outputs": [
    {
     "name": "stdout",
     "output_type": "stream",
     "text": [
      "{'pyuthan', 'kaski', 'gulmi'}\n",
      "{'rolpa', 'dolpa'}\n"
     ]
    }
   ],
   "source": [
    "a=set([\"palpa\",\"kaski\",\"gulmi\",\"rupandehi\",\"pyuthan\"])\n",
    "b=set([\"rolpa\",\"palpa\",\"dolpa\",\"rupandehi\"])\n",
    "\n",
    "print(a.difference(b)) #it prints the words in set ,removing common words from a to b\n",
    "\n",
    "print(b.difference(a)) #it prints the words in set,removing common words from b to a"
   ]
  },
  {
   "cell_type": "code",
   "execution_count": 50,
   "metadata": {},
   "outputs": [
    {
     "name": "stdout",
     "output_type": "stream",
     "text": [
      "[7, 55, 18, \"no.\", \"year\", \"date\"]\n"
     ]
    }
   ],
   "source": [
    "  #examples of serialization\n",
    "import json\n",
    "json_string = json.dumps([7, 55, 18, \"no.\", \"year\", \"date\"])#dumps method takes an object and returns strings\"\n",
    "print(json_string) #serializing into string\"\n",
    "    \n",
    "    "
   ]
  },
  {
   "cell_type": "code",
   "execution_count": 51,
   "metadata": {},
   "outputs": [
    {
     "name": "stdout",
     "output_type": "stream",
     "text": [
      "[1, 2, 3, 'a', 'b', 'c']\n"
     ]
    }
   ],
   "source": [
    "import pickle\n",
    "pickled_string = pickle.dumps([1, 2, 3, \"a\", \"b\", \"c\"])\n",
    "print(pickle.loads(pickled_string)) #deserializing from the string\""
   ]
  },
  {
   "cell_type": "code",
   "execution_count": 59,
   "metadata": {},
   "outputs": [
    {
     "name": "stdout",
     "output_type": "stream",
     "text": [
      "300\n",
      "400\n",
      "800\n"
     ]
    }
   ],
   "source": [
    "\n",
    "import json\n",
    "\n",
    "# fix this function, so it adds the given name\n",
    "# and salary pair to salaries_json, and return it\n",
    "def add_employee(salaries_json, name, salary):\n",
    "    \n",
    "    salaries = json.loads(salaries_json)\n",
    "    salaries[name] = salary\n",
    "\n",
    "    return json.dumps(salaries)\n",
    "    \n",
    "    \n",
    "salaries = '{\"Alfred\" : 300, \"Jane\" : 400 }'\n",
    "new_salaries = add_employee(salaries, \"Me\",800)\n",
    "decoded_salaries = json.loads(new_salaries)\n",
    "print(decoded_salaries[\"Alfred\"]) #prints the Alfred salary ie.300\n",
    "print(decoded_salaries[\"Jane\"])#prints the Jane salary i.e. 400\n",
    "print(decoded_salaries[\"Me\"])#prints the salaries assigned into me i.e.800\""
   ]
  },
  {
   "cell_type": "code",
   "execution_count": null,
   "metadata": {},
   "outputs": [],
   "source": []
  },
  {
   "cell_type": "code",
   "execution_count": 62,
   "metadata": {},
   "outputs": [
    {
     "name": "stdout",
     "output_type": "stream",
     "text": [
      "53\n"
     ]
    }
   ],
   "source": [
    "# examples on partial functions\n",
    "from functools import partial\n",
    "def function(a,b,c,x):\n",
    "    \n",
    "    return a**3 + 2**b + 4*c + x\n",
    "\n",
    "y=partial(function,2,5,2) #a partial function that calls function with a as 2, b as 5 , and c as 2 \n",
    " \n",
    "print(y(5)) #calls y with value of x = 5.  so output is 53 by solving it above defined "
   ]
  },
  {
   "cell_type": "code",
   "execution_count": 70,
   "metadata": {},
   "outputs": [
    {
     "name": "stdout",
     "output_type": "stream",
     "text": [
      "126\n"
     ]
    }
   ],
   "source": [
    "from functools import partial\n",
    "def multiply(x,y):\n",
    "        return x * y\n",
    "\n",
    "# create a new function that multiplies by 7\n",
    "dbl = partial(multiply,7)\n",
    "\n",
    "print(dbl(18))"
   ]
  },
  {
   "cell_type": "code",
   "execution_count": null,
   "metadata": {},
   "outputs": [],
   "source": []
  }
 ],
 "metadata": {
  "kernelspec": {
   "display_name": "Python 3",
   "language": "python",
   "name": "python3"
  },
  "language_info": {
   "codemirror_mode": {
    "name": "ipython",
    "version": 3
   },
   "file_extension": ".py",
   "mimetype": "text/x-python",
   "name": "python",
   "nbconvert_exporter": "python",
   "pygments_lexer": "ipython3",
   "version": "3.7.4"
  }
 },
 "nbformat": 4,
 "nbformat_minor": 2
}
