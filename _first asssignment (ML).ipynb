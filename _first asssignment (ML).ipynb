{
 "cells": [
  {
   "cell_type": "code",
   "execution_count": null,
   "metadata": {},
   "outputs": [],
   "source": [
    "1.What is the diferent between a parameter and an arguments ?\n",
    "\n",
    "=>Parameters are temporary variable names within functions.while arugements are the values that are assigned \n",
    "  in temporary variable or parameters."
   ]
  },
  {
   "cell_type": "code",
   "execution_count": null,
   "metadata": {},
   "outputs": [],
   "source": []
  },
  {
   "cell_type": "code",
   "execution_count": null,
   "metadata": {},
   "outputs": [],
   "source": [
    "2. What is the difference between 10/3 and 10//3 in python?\n",
    "\n",
    "=> Here / is division operator which divides the given number 10/3 and gives output 3.3333....\n",
    "   while // is integer division operator which returns the integer value i.e. 3\n",
    "    lets from the example below:"
   ]
  },
  {
   "cell_type": "code",
   "execution_count": 1,
   "metadata": {},
   "outputs": [
    {
     "name": "stdout",
     "output_type": "stream",
     "text": [
      "3.3333333333333335\n",
      "3\n"
     ]
    }
   ],
   "source": [
    "a=10/3\n",
    "b=10//3\n",
    "\n",
    "print(a)\n",
    "print(b)"
   ]
  },
  {
   "cell_type": "code",
   "execution_count": null,
   "metadata": {},
   "outputs": [],
   "source": []
  },
  {
   "cell_type": "code",
   "execution_count": null,
   "metadata": {},
   "outputs": [],
   "source": [
    "3.what does range(1,10,2) return?\n",
    "\n",
    "=> Here,range(1,10,2) returns the  value or numbers from 1 to 10 in the increment sequence 2.\n",
    "  so, it returns numbers 1,3,5,7,9 . Lets look the example below:\n"
   ]
  },
  {
   "cell_type": "code",
   "execution_count": 13,
   "metadata": {},
   "outputs": [
    {
     "name": "stdout",
     "output_type": "stream",
     "text": [
      "1\n",
      "3\n",
      "5\n",
      "7\n",
      "9\n"
     ]
    }
   ],
   "source": [
    " for a in range(1,10,2):\n",
    "    print(a)"
   ]
  },
  {
   "cell_type": "code",
   "execution_count": null,
   "metadata": {},
   "outputs": [],
   "source": []
  },
  {
   "cell_type": "code",
   "execution_count": null,
   "metadata": {},
   "outputs": [],
   "source": [
    "4. How can we make a parameter  of a  function optional ?\n",
    "\n",
    "=>  we can make the parameter of a function optional by using the default argument. \n",
    "     we will be clear from  the example below:"
   ]
  },
  {
   "cell_type": "code",
   "execution_count": 2,
   "metadata": {},
   "outputs": [
    {
     "name": "stdout",
     "output_type": "stream",
     "text": [
      "I wanna visit Switzerland\n",
      "I wanna visit madrid\n",
      "I wanna visit Namche bazzzar\n",
      "I wanna visit Thailand\n"
     ]
    }
   ],
   "source": [
    "def my_fav(places= \"Namche bazzzar\"): \n",
    "  print(\"I wanna visit \" + places)  \n",
    "                        \n",
    "my_fav(\"Switzerland\")\n",
    "my_fav(\"madrid\")\n",
    "my_fav()\n",
    "my_fav(\"Thailand\")"
   ]
  },
  {
   "cell_type": "code",
   "execution_count": null,
   "metadata": {},
   "outputs": [],
   "source": []
  },
  {
   "cell_type": "code",
   "execution_count": null,
   "metadata": {},
   "outputs": [],
   "source": [
    "5. what is the difference between local and globals variables?"
   ]
  },
  {
   "cell_type": "code",
   "execution_count": null,
   "metadata": {},
   "outputs": [],
   "source": [
    "=> Here, variables that declared outside of a function are called global variable while\n",
    "         variables that declared inside the function is called local variables."
   ]
  },
  {
   "cell_type": "code",
   "execution_count": null,
   "metadata": {},
   "outputs": [],
   "source": []
  },
  {
   "cell_type": "code",
   "execution_count": null,
   "metadata": {},
   "outputs": [],
   "source": [
    "6. Assuming (name=\"john smith\")\n",
    "\n",
    "a. what does name[1] return?\n",
    "=> name[1] returns the \"J\" letter from name.\n",
    "\n",
    "b.What about name[-2]?\n",
    "=> name[-2] returns \"t\" from name.\n",
    "\n",
    "c.what about name[1:-1]?\n",
    "=> name[1:-1] returns \"ohn smit\" from name.\n",
    "\n",
    "d.What will name.title() return?\n",
    "=> It returns the value of name i.e. \"john smith\".\n",
    "\n",
    "e.what does name.strip() do?\n",
    "=>name.strip() is  used to remove all the leading and trailing spaces from a string.\n",
    "\n",
    "f.what does name.find(\"smith\") return?\n",
    "=> name.find will returns the starting position of given word. i.e. starting letter of \"smith\" is 5.\n",
    "   so, it will return 5.\n",
    "\n",
    "g.what will be the value of name after we call name.replace(\"J\",\"k\")?\n",
    "=>After we call.replace(\"j\",\"k\") . It will return \"kohn smith\".\n",
    "\n",
    "h.How can we check to see if name conatins \"john\"?\n",
    "=>we use find() to check to see if name contains \"john\".\n",
    "  in the given name if it contains \"john\" then it returns startng position of john.\n"
   ]
  },
  {
   "cell_type": "code",
   "execution_count": null,
   "metadata": {},
   "outputs": [],
   "source": [
    "\n"
   ]
  },
  {
   "cell_type": "code",
   "execution_count": null,
   "metadata": {},
   "outputs": [],
   "source": []
  },
  {
   "cell_type": "code",
   "execution_count": null,
   "metadata": {},
   "outputs": [],
   "source": [
    "B. EXERCISE\n"
   ]
  },
  {
   "cell_type": "code",
   "execution_count": null,
   "metadata": {},
   "outputs": [],
   "source": [
    "1.write a function that returns the maximum of two numbers?"
   ]
  },
  {
   "cell_type": "code",
   "execution_count": null,
   "metadata": {},
   "outputs": [],
   "source": [
    "=> max() functions return the maximum of two or more numbers.\n",
    "    \n",
    "from the example below, we will be more clear:  \n",
    "        "
   ]
  },
  {
   "cell_type": "code",
   "execution_count": 21,
   "metadata": {},
   "outputs": [
    {
     "name": "stdout",
     "output_type": "stream",
     "text": [
      "77\n"
     ]
    }
   ],
   "source": [
    "print(max(77,18))"
   ]
  },
  {
   "cell_type": "code",
   "execution_count": null,
   "metadata": {},
   "outputs": [],
   "source": []
  },
  {
   "cell_type": "code",
   "execution_count": null,
   "metadata": {},
   "outputs": [],
   "source": [
    "2.Write a Python script to generate and print a dictionary that contains a number (between 1 and n) in the form (x, x*x). \n",
    "Example : Sample_Dictionary( n = 5) : Expected Output : {1: 1, 2: 4, 3: 9, 4: 16, 5: 25}\n",
    "\n",
    "=>"
   ]
  },
  {
   "cell_type": "code",
   "execution_count": 8,
   "metadata": {},
   "outputs": [
    {
     "name": "stdout",
     "output_type": "stream",
     "text": [
      "7\n"
     ]
    },
    {
     "data": {
      "text/plain": [
       "{1: 1, 2: 4, 3: 9, 4: 16, 5: 25, 6: 36, 7: 49}"
      ]
     },
     "execution_count": 8,
     "metadata": {},
     "output_type": "execute_result"
    }
   ],
   "source": [
    "\n",
    "n=int(input ())\n",
    "{x:x*x for x in range(1,n+1)}"
   ]
  },
  {
   "cell_type": "code",
   "execution_count": null,
   "metadata": {},
   "outputs": [],
   "source": []
  },
  {
   "cell_type": "code",
   "execution_count": null,
   "metadata": {},
   "outputs": [],
   "source": [
    "3.Write a Python class which has two methods: get_String and print_String. get_String\n",
    "     accepts a string from the user and print_String print the string in upper case.\n",
    "    \n",
    "=>"
   ]
  },
  {
   "cell_type": "code",
   "execution_count": 29,
   "metadata": {},
   "outputs": [
    {
     "name": "stdout",
     "output_type": "stream",
     "text": [
      "sandesh\n",
      "SANDESH\n"
     ]
    }
   ],
   "source": [
    "class Me:\n",
    "    def __init__(self):\n",
    "        self.str=\"\"\n",
    "    def get_String(self):\n",
    "        self.str=input()\n",
    "    def print_String(self):\n",
    "        print (self.str.upper())\n",
    "        \n",
    "here=Me()\n",
    "here.get_String()\n",
    "here.print_String()"
   ]
  },
  {
   "cell_type": "code",
   "execution_count": null,
   "metadata": {},
   "outputs": [],
   "source": []
  },
  {
   "cell_type": "code",
   "execution_count": null,
   "metadata": {},
   "outputs": [],
   "source": [
    "4. Write a function called fizz_buzz that takes a number.\n",
    " If the number is divisible by 3, it should return “Fizz”.\n",
    " If it is divisible by 5, it should return “Buzz”.\n",
    " If it is divisible by both 3 and 5, it should return “FizzBuzz”.\n",
    " Otherwise, it should return the same number.\n",
    "\n",
    "=>"
   ]
  },
  {
   "cell_type": "code",
   "execution_count": 28,
   "metadata": {},
   "outputs": [],
   "source": [
    "\n",
    "def fizz_buzz(num):\n",
    "    if (num%3==0 ):\n",
    "        return (\"Fizz\")\n",
    "    elif (num%5==0):\n",
    "        return(\"Buzz\")\n",
    "    elif (num%3==0 and num%5==0):\n",
    "         return(\"FizzBuzz\")\n",
    "    else:\n",
    "        return(num)\n",
    "\n",
    "    \n",
    "    \n"
   ]
  },
  {
   "cell_type": "markdown",
   "metadata": {},
   "source": []
  },
  {
   "cell_type": "code",
   "execution_count": null,
   "metadata": {},
   "outputs": [],
   "source": [
    "5.Write a regular expression that will match an email,\n",
    "an email is a string which has the format ‘abcd@gmail.com’\n",
    "or ‘xyz@yahoo.com’i.e., any string followed by ‘@’ symbol\n",
    "followed by any string followed by ‘.’ symbol followed by ‘com’\n",
    "\n",
    "=>Regular expression  that match following given condition is given below:"
   ]
  },
  {
   "cell_type": "code",
   "execution_count": null,
   "metadata": {},
   "outputs": [],
   "source": [
    "pattern = r\"\\\"?([-a-zA-Z0-9.`?{}]+@\\w+\\.\\w+)\\\"?\" "
   ]
  },
  {
   "cell_type": "code",
   "execution_count": null,
   "metadata": {},
   "outputs": [],
   "source": []
  },
  {
   "cell_type": "code",
   "execution_count": null,
   "metadata": {},
   "outputs": [],
   "source": [
    "6. Write a program that takes the following input and dumps the output \n",
    "in the given format into a json file named ‘student_details.json’.\n",
    "\n",
    "Input:\n",
    "Details for five students:\n",
    "Information to take as input: Name, Address, Phone No, College Name\n",
    "Output format: \n",
    "A List that contains 5 dictionaries like:\n",
    "[{‘name’: ‘xyz’, ‘address’: ‘xyz’, ‘phone’:123456, ‘college’: ‘KU’}, …….\n",
    "…..]\n",
    "\n",
    "=>"
   ]
  },
  {
   "cell_type": "code",
   "execution_count": null,
   "metadata": {},
   "outputs": [],
   "source": [
    "import json\n",
    "\n",
    "for x in range(5):\n",
    "    name=input()\n",
    "    address=input()\n",
    "    phone=input()\n",
    "    college=input()\n",
    "\n",
    "list=['name','address','phone','college']\n",
    "x=\n",
    "    \n",
    "\n",
    "\n"
   ]
  },
  {
   "cell_type": "code",
   "execution_count": null,
   "metadata": {},
   "outputs": [],
   "source": []
  }
 ],
 "metadata": {
  "kernelspec": {
   "display_name": "Python 3",
   "language": "python",
   "name": "python3"
  },
  "language_info": {
   "codemirror_mode": {
    "name": "ipython",
    "version": 3
   },
   "file_extension": ".py",
   "mimetype": "text/x-python",
   "name": "python",
   "nbconvert_exporter": "python",
   "pygments_lexer": "ipython3",
   "version": "3.7.4"
  }
 },
 "nbformat": 4,
 "nbformat_minor": 2
}
