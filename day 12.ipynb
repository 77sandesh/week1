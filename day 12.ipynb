{
 "cells": [
  {
   "cell_type": "code",
   "execution_count": 6,
   "metadata": {},
   "outputs": [
    {
     "name": "stdout",
     "output_type": "stream",
     "text": [
      "Second element = 2\n",
      "An error occurred\n"
     ]
    }
   ],
   "source": [
    "#examples on exception  handling\n",
    "\n",
    "a = [1, 2, 3] \n",
    "try:  \n",
    "    print((\"Second element = %d\") %(a[1])) \n",
    "  \n",
    "    # Throws error since there are only 3 elements in array \n",
    "    print((\"Fourth element = %d\") %(a[3])) \n",
    "  \n",
    "except IndexError: \n",
    "    print(\"An error occurred\")"
   ]
  },
  {
   "cell_type": "code",
   "execution_count": 8,
   "metadata": {},
   "outputs": [
    {
     "name": "stdout",
     "output_type": "stream",
     "text": [
      "Error Occurred and Handled\n"
     ]
    }
   ],
   "source": [
    "try :  \n",
    "    a = 3\n",
    "    if a < 4 : \n",
    "  \n",
    "        # throws ZeroDivisionError for a = 3  \n",
    "        b = a/(a-3) \n",
    "      \n",
    "    # throws NameError if a >= 4 \n",
    "    print ((\"Value of b = \"), b) \n",
    "  \n",
    " \n",
    "except(ZeroDivisionError, NameError): \n",
    "    print (\"Error Occurred and Handled\")"
   ]
  },
  {
   "cell_type": "code",
   "execution_count": 10,
   "metadata": {},
   "outputs": [
    {
     "name": "stdout",
     "output_type": "stream",
     "text": [
      "1\n",
      "2\n",
      "3\n",
      "4\n",
      "5\n",
      "0\n",
      "0\n",
      "0\n",
      "0\n",
      "0\n"
     ]
    }
   ],
   "source": [
    "def do_stuff_with_number(n):\n",
    "    print(n)\n",
    "\n",
    "def catch_this():\n",
    "    the_list = (1, 2, 3, 4, 5)\n",
    "\n",
    "    for i in range(10):\n",
    "        try:\n",
    "            do_stuff_with_number(the_list[i])\n",
    "        except IndexError: # Raised when accessing a non-existing index of a list\n",
    "            do_stuff_with_number(0)\n",
    "\n",
    "catch_this()"
   ]
  },
  {
   "cell_type": "code",
   "execution_count": 5,
   "metadata": {},
   "outputs": [
    {
     "name": "stdout",
     "output_type": "stream",
     "text": [
      "This is printed first\n",
      "1\n",
      "This is printed second\n",
      "2\n",
      "This is printed at last\n",
      "3\n"
     ]
    }
   ],
   "source": [
    "#examples in generator\n",
    "def my_gen():\n",
    "    n = 1\n",
    "    print('This is printed first')\n",
    "    # Generator function contains yield statements\n",
    "    yield n\n",
    "\n",
    "    n += 1\n",
    "    print('This is printed second')\n",
    "    yield n\n",
    "\n",
    "    n += 1\n",
    "    print('This is printed at last')\n",
    "    yield n\n",
    "\n",
    "# Using for loop\n",
    "for item in my_gen():\n",
    "    print(item)    \n",
    "\n"
   ]
  },
  {
   "cell_type": "code",
   "execution_count": 6,
   "metadata": {},
   "outputs": [
    {
     "name": "stdout",
     "output_type": "stream",
     "text": [
      "o\n",
      "l\n",
      "l\n",
      "e\n",
      "h\n"
     ]
    }
   ],
   "source": [
    "def rev_str(my_str):\n",
    "    length = len(my_str)\n",
    "    for i in range(length - 1,-1,-1):\n",
    "        yield my_str[i]\n",
    "\n",
    "# For loop to reverse the string\n",
    "\n",
    "for char in rev_str(\"hello\"):\n",
    "     print(char)"
   ]
  },
  {
   "cell_type": "code",
   "execution_count": 7,
   "metadata": {},
   "outputs": [
    {
     "name": "stdout",
     "output_type": "stream",
     "text": [
      "And the next number is... 36!\n",
      "And the next number is... 11!\n",
      "And the next number is... 14!\n",
      "And the next number is... 3!\n",
      "And the next number is... 26!\n",
      "And the next number is... 5!\n",
      "And the next number is... 13!\n"
     ]
    }
   ],
   "source": [
    "import random\n",
    "\n",
    "def lottery():\n",
    "    # returns 6 numbers between 1 and 40\n",
    "    for i in range(6):\n",
    "        yield random.randint(1, 40)\n",
    "\n",
    "    # returns a 7th number between 1 and 15\n",
    "    yield random.randint(1,15)\n",
    "\n",
    "for random_number in lottery():\n",
    "       print(\"And the next number is... %d!\" %(random_number))"
   ]
  },
  {
   "cell_type": "code",
   "execution_count": null,
   "metadata": {},
   "outputs": [],
   "source": []
  }
 ],
 "metadata": {
  "kernelspec": {
   "display_name": "Python 3",
   "language": "python",
   "name": "python3"
  },
  "language_info": {
   "codemirror_mode": {
    "name": "ipython",
    "version": 3
   },
   "file_extension": ".py",
   "mimetype": "text/x-python",
   "name": "python",
   "nbconvert_exporter": "python",
   "pygments_lexer": "ipython3",
   "version": "3.7.4"
  }
 },
 "nbformat": 4,
 "nbformat_minor": 2
}
