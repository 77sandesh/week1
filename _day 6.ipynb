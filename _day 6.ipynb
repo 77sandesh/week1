{
 "cells": [
  {
   "cell_type": "code",
   "execution_count": 3,
   "metadata": {},
   "outputs": [
    {
     "name": "stdout",
     "output_type": "stream",
     "text": [
      "Madrid\n",
      "Dortmund\n",
      "Juventus\n"
     ]
    }
   ],
   "source": [
    "#exampes of loop in python\n",
    "football= [\"Madrid\", \"Dortmund\", \"Juventus\"]\n",
    "for x in football:\n",
    "  print(x) "
   ]
  },
  {
   "cell_type": "code",
   "execution_count": 5,
   "metadata": {},
   "outputs": [
    {
     "name": "stdout",
     "output_type": "stream",
     "text": [
      "banglore\n",
      "pokhara\n"
     ]
    }
   ],
   "source": [
    "cricket = [\"banglore\", \"pokhara\", \"melbourne\",\"barbados\"]\n",
    "for s in cricket:\n",
    "  if s == \"melbourne\":\n",
    "    break #  break statement exits the loop hen s= melbourne .so it shows banglore an pokhara from the list\n",
    "  print(s) "
   ]
  },
  {
   "cell_type": "code",
   "execution_count": 13,
   "metadata": {},
   "outputs": [
    {
     "name": "stdout",
     "output_type": "stream",
     "text": [
      "cr7\n",
      "kroos\n",
      "arnold\n"
     ]
    }
   ],
   "source": [
    "players=[\"cr7\",\"kroos\",\"Reus\",\"arnold\"]\n",
    "for p in players:\n",
    "    if p == \"Reus\":\n",
    "        continue #  this continue statement stop the current iteration of the loop, and continue with the next.\n",
    "    print(p)     #so ,it prints cr7,kroos and arnold. it doesnot print Reus here p== Reus"
   ]
  },
  {
   "cell_type": "code",
   "execution_count": 14,
   "metadata": {},
   "outputs": [
    {
     "name": "stdout",
     "output_type": "stream",
     "text": [
      "0\n",
      "1\n",
      "2\n",
      "3\n",
      "4\n",
      "5\n",
      "6\n"
     ]
    }
   ],
   "source": [
    "for x in range(7):\n",
    "  print(x)  # here  number from range 0 t0 6 will be printed. so ,from o position 7 will be in 8th position\n",
    "            #7 will not be printed as our condition"
   ]
  },
  {
   "cell_type": "code",
   "execution_count": 15,
   "metadata": {},
   "outputs": [
    {
     "name": "stdout",
     "output_type": "stream",
     "text": [
      "2\n",
      "3\n",
      "4\n",
      "5\n"
     ]
    }
   ],
   "source": [
    "for x in range(2, 7):\n",
    "  print(x) # here it prints from 2 t0 6. it doesnot print 7"
   ]
  },
  {
   "cell_type": "code",
   "execution_count": 17,
   "metadata": {},
   "outputs": [
    {
     "name": "stdout",
     "output_type": "stream",
     "text": [
      "18\n",
      "36\n",
      "54\n",
      "72\n"
     ]
    }
   ],
   "source": [
    "for x in range(18, 77, 18):\n",
    "  print(x) # here ,from 18 t0 77(76) numbers with 18 increment sequence will be printed "
   ]
  },
  {
   "cell_type": "code",
   "execution_count": 21,
   "metadata": {},
   "outputs": [
    {
     "name": "stdout",
     "output_type": "stream",
     "text": [
      "red apple\n",
      "red banana\n",
      "red cherry\n",
      "big apple\n",
      "big banana\n",
      "big cherry\n",
      "tasty apple\n",
      "tasty banana\n",
      "tasty cherry\n"
     ]
    }
   ],
   "source": [
    "#using nested loop in this list\n",
    "adj = [\"red\", \"big\", \"tasty\"]\n",
    "fruits = [\"apple\", \"banana\", \"cherry\"]\n",
    "\n",
    "for x in adj: # inner loop\n",
    "   for y in fruits: # outer loop\n",
    "    print(x, y) # The inner loop will be executed one time for each iteration of the outer loop"
   ]
  },
  {
   "cell_type": "code",
   "execution_count": 24,
   "metadata": {},
   "outputs": [
    {
     "name": "stdout",
     "output_type": "stream",
     "text": [
      "0\n",
      "2\n",
      "4\n",
      "6\n"
     ]
    }
   ],
   "source": [
    "#using while loop. It executes a set of statements as long as a condition is true.\n",
    "number = 0\n",
    "while number < 7: #Prints number  less than 7\n",
    "    print(number)\n",
    "    number += 2 #in the +2 increment order.means it adds 2 place in each loop. like 0,2,4 upto 7"
   ]
  },
  {
   "cell_type": "code",
   "execution_count": 25,
   "metadata": {},
   "outputs": [
    {
     "name": "stdout",
     "output_type": "stream",
     "text": [
      "Hello everyone,it's me sandesh\n"
     ]
    }
   ],
   "source": [
    "#examples of functions in python\n",
    "def my_function(): #my_function is defined \n",
    "  print(\"Hello everyone,it's me sandesh\")\n",
    "\n",
    "my_function()  #calling the function"
   ]
  },
  {
   "cell_type": "code",
   "execution_count": 31,
   "metadata": {},
   "outputs": [
    {
     "name": "stdout",
     "output_type": "stream",
     "text": [
      "sandesh Nepal\n",
      "shailesh Nepal\n",
      "shailaja Nepal\n"
     ]
    }
   ],
   "source": [
    "def my_function(fname): # passing argument fname in my function\n",
    "  print(fname + \" Nepal\")\n",
    "\n",
    "my_function(\"sandesh\") #passing argument (fname)value  as sandesh\n",
    "my_function(\"shailesh\") #passing argument (fname)value  as shailesh\n",
    "my_function(\"shailaja\") #passing argument (fname)value  as shailaja"
   ]
  },
  {
   "cell_type": "code",
   "execution_count": 37,
   "metadata": {},
   "outputs": [
    {
     "name": "stdout",
     "output_type": "stream",
     "text": [
      "The youngest member is shailaja\n"
     ]
    }
   ],
   "source": [
    "\n",
    "def my_family(brother, sister, me): #passing  arguments in function\n",
    "  print(\"The youngest member is \" + sister) #passing keyword arguments in function my family. so here sister= shailaja.\n",
    "\n",
    "my_family(brother = \"shailesh\", sister = \"shailaja\", me = \"sandesh\") "
   ]
  },
  {
   "cell_type": "code",
   "execution_count": 40,
   "metadata": {},
   "outputs": [
    {
     "name": "stdout",
     "output_type": "stream",
     "text": [
      "I wanna visit Switzerland\n",
      "I wanna visit madrid\n",
      "I wanna visit Namche bazzzar\n",
      "I wanna visit Thailand\n"
     ]
    }
   ],
   "source": [
    "def my_fav(places= \"Namche bazzzar\"): #using default  parameter value in the function. it is used in \n",
    "  print(\"I wanna visit \" + places)   #then condition when we call function argument.\n",
    "                                     #here argument is not called default value=namche bazzar used.\n",
    "my_fav(\"Switzerland\")\n",
    "my_fav(\"madrid\")\n",
    "my_fav()\n",
    "my_fav(\"Thailand\")\n"
   ]
  },
  {
   "cell_type": "code",
   "execution_count": 51,
   "metadata": {},
   "outputs": [
    {
     "name": "stdout",
     "output_type": "stream",
     "text": [
      "Hello  friends , From My side!, I wish you good night \n"
     ]
    }
   ],
   "source": [
    "def my_function(username, greeting): #defining arguments username and greeting\n",
    "    print(\"Hello  %s , From My side!, I wish you %s\"%(username, greeting))\n",
    "my_function(\"friends\",\"good night \") #passing values of arguments\n",
    "           "
   ]
  },
  {
   "cell_type": "code",
   "execution_count": 54,
   "metadata": {},
   "outputs": [
    {
     "data": {
      "text/plain": [
       "1386"
      ]
     },
     "execution_count": 54,
     "metadata": {},
     "output_type": "execute_result"
    }
   ],
   "source": [
    "def multiply(a, b):\n",
    "    return a * b #returning the function using return keyword\n",
    "multiply(77,18) # passing values of aruments a and b. \n"
   ]
  },
  {
   "cell_type": "code",
   "execution_count": 56,
   "metadata": {},
   "outputs": [
    {
     "name": "stdout",
     "output_type": "stream",
     "text": [
      "{'Real madrid': 'Santiago Bernabeu Stadium', 'Juventus': 'Allianz stadium', 'Liverpool': 'Anfield', 'Dortmund': 'Signal Iduna Park'}\n"
     ]
    }
   ],
   "source": [
    "#examples on dictionaries\n",
    "stadiums = {\n",
    "    \"Real madrid\" :\"Santiago Bernabeu Stadium\" ,\n",
    "    \"Juventus\"    :\"Allianz stadium\",\n",
    "    \"Liverpool\"   :\"Anfield\",\n",
    "    \"Dortmund\"    :\"Signal Iduna Park\"\n",
    "}\n",
    "print(stadiums)"
   ]
  },
  {
   "cell_type": "code",
   "execution_count": 67,
   "metadata": {},
   "outputs": [
    {
     "name": "stdout",
     "output_type": "stream",
     "text": [
      "{'Name': 'Sandesh Nepal', 'Birthplace': 'Palpa', 'year': 1998}\n",
      "{'Name': 'Sandesh Nepal', 'Birthplace': 'Palpa', 'year': 1998, 'Religion': 'Hindu'}\n",
      "4\n",
      "{'Name': 'Sandesh Nepal', 'year': 1998, 'Religion': 'Hindu'}\n"
     ]
    }
   ],
   "source": [
    "CV= {\n",
    "  \"Name\": \"Sandesh Nepal\",\n",
    "  \"Birthplace\": \"Palpa\",\n",
    "  \"year\": 1990\n",
    "}\n",
    "CV[\"year\"] = 1998 # changing the value of a year in the dictionary\n",
    "print(CV)\n",
    "\n",
    "CV[\"Religion\"] = \"Hindu\" #adding items in the dictionary\n",
    "print(CV)\n",
    "print(len(CV)) #finding length of the item pairs in the dictionary,here Religion item is added inlast so,\n",
    "               #the length of dictionary is 4.\n",
    "    \n",
    "del CV[\"Birthplace\"] #deleting birthplace from dictionary using del function or we can use pop function instd. of del function.\n",
    "print(CV)\n",
    "\n"
   ]
  },
  {
   "cell_type": "code",
   "execution_count": 69,
   "metadata": {},
   "outputs": [
    {
     "name": "stdout",
     "output_type": "stream",
     "text": [
      "Yes, 'location' is included in this dictionary\n"
     ]
    }
   ],
   "source": [
    "#checking whether location is  in this dictionary or not.  using  if condition .\n",
    "college = {\n",
    "  \"name\": \"LCC\",\n",
    "  \"location\": \"Butwal\",\n",
    "  \"codinator\": \"ABC xyz\"\n",
    "}\n",
    "if \"location\" in college:\n",
    "  print(\"Yes, 'location' is included in this dictionary\")"
   ]
  },
  {
   "cell_type": "code",
   "execution_count": null,
   "metadata": {},
   "outputs": [],
   "source": []
  }
 ],
 "metadata": {
  "kernelspec": {
   "display_name": "Python 3",
   "language": "python",
   "name": "python3"
  },
  "language_info": {
   "codemirror_mode": {
    "name": "ipython",
    "version": 3
   },
   "file_extension": ".py",
   "mimetype": "text/x-python",
   "name": "python",
   "nbconvert_exporter": "python",
   "pygments_lexer": "ipython3",
   "version": "3.7.4"
  }
 },
 "nbformat": 4,
 "nbformat_minor": 2
}
