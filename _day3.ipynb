{
 "cells": [
  {
   "cell_type": "code",
   "execution_count": 2,
   "metadata": {},
   "outputs": [
    {
     "name": "stdout",
     "output_type": "stream",
     "text": [
      "let's start the python 3  months fellowship\n"
     ]
    }
   ],
   "source": [
    "print(\"let's start the python 3  months fellowship\")\n"
   ]
  },
  {
   "cell_type": "code",
   "execution_count": 4,
   "metadata": {},
   "outputs": [
    {
     "name": "stdout",
     "output_type": "stream",
     "text": [
      "78\n"
     ]
    }
   ],
   "source": [
    "price=10\n",
    "price=77\n",
    "price=78\n",
    "print(price)\n",
    "# python interpretes or executes the codes line  by line from the top"
   ]
  },
  {
   "cell_type": "code",
   "execution_count": 7,
   "metadata": {},
   "outputs": [
    {
     "name": "stdout",
     "output_type": "stream",
     "text": [
      "birth year:1998\n",
      "22\n"
     ]
    }
   ],
   "source": [
    "birth_year=input('birth year:')\n",
    "age=2020-int(birth_year)\n",
    "print(age)\n",
    "#Here age or birth year should be in integer type,so int is given birth_year. also 2020- cannot sub other datatype for age."
   ]
  },
  {
   "cell_type": "code",
   "execution_count": 14,
   "metadata": {},
   "outputs": [
    {
     "name": "stdout",
     "output_type": "stream",
     "text": [
      "ee m\n"
     ]
    }
   ],
   "source": [
    "course=(\"three months online machine learning fellowship\")\n",
    "print(course[3:7])\n",
    "\n",
    "\n"
   ]
  },
  {
   "cell_type": "code",
   "execution_count": 13,
   "metadata": {},
   "outputs": [
    {
     "name": "stdout",
     "output_type": "stream",
     "text": [
      "77\n",
      "sandesh\n"
     ]
    }
   ],
   "source": [
    "x=77\n",
    "y='sandesh'\n",
    "print(x)\n",
    "print(y)\n",
    "#variables x and y are asigned with values"
   ]
  },
  {
   "cell_type": "code",
   "execution_count": 15,
   "metadata": {},
   "outputs": [
    {
     "name": "stdout",
     "output_type": "stream",
     "text": [
      "cristaino is best player in the world\n"
     ]
    }
   ],
   "source": [
    "x = \"cristaino\"\n",
    "print(x + \" is best player in the world\")\n",
    "#To combine  text and a variable,  + character is used"
   ]
  },
  {
   "cell_type": "code",
   "execution_count": 17,
   "metadata": {},
   "outputs": [
    {
     "ename": "TypeError",
     "evalue": "unsupported operand type(s) for +: 'int' and 'str'",
     "output_type": "error",
     "traceback": [
      "\u001b[1;31m---------------------------------------------------------------------------\u001b[0m",
      "\u001b[1;31mTypeError\u001b[0m                                 Traceback (most recent call last)",
      "\u001b[1;32m<ipython-input-17-8083990d8229>\u001b[0m in \u001b[0;36m<module>\u001b[1;34m\u001b[0m\n\u001b[0;32m      1\u001b[0m \u001b[0mx\u001b[0m \u001b[1;33m=\u001b[0m \u001b[1;36m77\u001b[0m\u001b[1;33m\u001b[0m\u001b[1;33m\u001b[0m\u001b[0m\n\u001b[0;32m      2\u001b[0m \u001b[0my\u001b[0m \u001b[1;33m=\u001b[0m \u001b[1;34m\"sandesh\"\u001b[0m\u001b[1;33m\u001b[0m\u001b[1;33m\u001b[0m\u001b[0m\n\u001b[1;32m----> 3\u001b[1;33m \u001b[0mprint\u001b[0m\u001b[1;33m(\u001b[0m\u001b[0mx\u001b[0m \u001b[1;33m+\u001b[0m \u001b[0my\u001b[0m\u001b[1;33m)\u001b[0m\u001b[1;33m\u001b[0m\u001b[1;33m\u001b[0m\u001b[0m\n\u001b[0m\u001b[0;32m      4\u001b[0m \u001b[1;31m#it gives the error because x is int type and y is str type.so it cannot be added\u001b[0m\u001b[1;33m\u001b[0m\u001b[1;33m\u001b[0m\u001b[1;33m\u001b[0m\u001b[0m\n",
      "\u001b[1;31mTypeError\u001b[0m: unsupported operand type(s) for +: 'int' and 'str'"
     ]
    }
   ],
   "source": [
    "x = 77\n",
    "y = \"sandesh\"\n",
    "print(x + y)\n",
    "#it gives the error because x is int type and y is str type.so it cannot be added"
   ]
  },
  {
   "cell_type": "code",
   "execution_count": 22,
   "metadata": {},
   "outputs": [
    {
     "name": "stdout",
     "output_type": "stream",
     "text": [
      "welcome you to the online python classes\n"
     ]
    }
   ],
   "source": [
    "welcome = \"welcome\"\n",
    "you = \"you to the online python classes\"\n",
    "welcomeyou = welcome + \" \" + you\n",
    "print(welcomeyou)\n",
    "#this is concatenation process in python for the strings"
   ]
  },
  {
   "cell_type": "code",
   "execution_count": null,
   "metadata": {},
   "outputs": [],
   "source": []
  },
  {
   "cell_type": "code",
   "execution_count": 30,
   "metadata": {},
   "outputs": [
    {
     "name": "stdout",
     "output_type": "stream",
     "text": [
      "String: sandesh\n",
      "Float: 10.000000\n",
      "Integer: 77\n"
     ]
    }
   ],
   "source": [
    "mystring = \"sandesh\" #variable is declared in str type as sandesh\n",
    "myfloat =  10.0         #variable is declared in float type as 10.0\n",
    "myint = 77        #variable is declared in int type  as 77\n",
    "\n",
    "# testing code\n",
    "if mystring == \"sandesh\": #condition is given ,if the mystring is declared as sandesh then it will be printed else not\n",
    "    print(\"String: %s\" % mystring)\n",
    "if isinstance(myfloat, float) and myfloat == 10.0: #condition is given ,if the mystring is declared as 10.0   \n",
    "    print(\"Float: %f\" % myfloat) #else not\n",
    "    \n",
    "if isinstance(myint, int) and myint == 77:#condition is given ,if the mystring is declared as 77 then it will be printed else not\n",
    "    print(\"Integer: %d\" % myint)"
   ]
  },
  {
   "cell_type": "code",
   "execution_count": 42,
   "metadata": {},
   "outputs": [
    {
     "name": "stdout",
     "output_type": "stream",
     "text": [
      "['python', 'Java', 'dot net', 'c#', 'PHP', 'c++']\n",
      "6\n",
      "c#\n",
      "['dot net', 'c#']\n",
      "PHP\n",
      "['python', 'Java', 'dot net']\n"
     ]
    }
   ],
   "source": [
    "# simple example of LISTS\n",
    "thislist = [\"python\", \"Java\", \"dot net\", \"c#\" ,\"PHP\" ,\"c++\"]\n",
    "print(thislist)\n",
    "print(len(thislist)) #finding length of the list\n",
    "print(thislist[3]) #in this condition it will count from 0,so 3- c#\n",
    "print(thislist[2:4]) #range of list is given to print\n",
    "print(thislist[-2]) # here - will count from reverse order so it will be PHP\n",
    "print(thislist[:3])# in this case  it dispalys the items from index 0  to 3\n",
    "                   # 0 is the first item, and index 3 is the fourth item but item in index 3 will not included\n"
   ]
  },
  {
   "cell_type": "code",
   "execution_count": 44,
   "metadata": {},
   "outputs": [
    {
     "name": "stdout",
     "output_type": "stream",
     "text": [
      "football\n",
      "Tennis\n"
     ]
    }
   ],
   "source": [
    "#loop in  the lists\n",
    "thislist = [\"football\", \"cricket\",\"Tennis\"]\n",
    "for x in thislist:\n",
    "  print(x)\n",
    "\n",
    "if \"cricket\" in thislist:\n",
    "    print(\"That's right\")"
   ]
  },
  {
   "cell_type": "code",
   "execution_count": 49,
   "metadata": {},
   "outputs": [
    {
     "name": "stdout",
     "output_type": "stream",
     "text": [
      "['Ronaldo', 'Nadal', 'Starc', 'serena']\n",
      "['Ronaldo', 'Nadal', 'James', 'Starc', 'serena']\n",
      "['Ronaldo', 'Nadal', 'Starc', 'serena']\n"
     ]
    }
   ],
   "source": [
    "#Adding items in the lists\n",
    "lists=[\"Ronaldo\",\"Nadal\",\"Starc\"]\n",
    "lists.append(\"serena\") #adding items in the list using append function\n",
    "print(lists)\n",
    "lists.insert(2,\"James\") #inserting items in place 2 in the list using insert function\n",
    "print(lists)\n",
    "\n",
    "lists.remove(\"James\") #removing items from lists\n",
    "print(lists)"
   ]
  },
  {
   "cell_type": "code",
   "execution_count": 50,
   "metadata": {},
   "outputs": [
    {
     "name": "stdout",
     "output_type": "stream",
     "text": [
      "['python', 'machine learning', 'deep learning', 1, 2, 3]\n"
     ]
    }
   ],
   "source": [
    "list1 = [\"python\", \"machine learning\" , \"deep learning\"]\n",
    "list2 = [1, 2, 3]\n",
    "\n",
    "list3 = list1 + list2\n",
    "print(list3)\n",
    "#joining  two lists"
   ]
  },
  {
   "cell_type": "code",
   "execution_count": null,
   "metadata": {},
   "outputs": [],
   "source": []
  }
 ],
 "metadata": {
  "kernelspec": {
   "display_name": "Python 3",
   "language": "python",
   "name": "python3"
  },
  "language_info": {
   "codemirror_mode": {
    "name": "ipython",
    "version": 3
   },
   "file_extension": ".py",
   "mimetype": "text/x-python",
   "name": "python",
   "nbconvert_exporter": "python",
   "pygments_lexer": "ipython3",
   "version": "3.7.4"
  }
 },
 "nbformat": 4,
 "nbformat_minor": 2
}
